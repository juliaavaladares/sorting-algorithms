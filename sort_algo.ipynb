{
 "cells": [
  {
   "cell_type": "code",
   "execution_count": 1,
   "metadata": {},
   "outputs": [],
   "source": [
    "import pandas as pd\n",
    "\n",
    "import time"
   ]
  },
  {
   "attachments": {},
   "cell_type": "markdown",
   "metadata": {},
   "source": [
    "### Base de dados\n",
    "A Countrywide Traffic Accident Dataset (2016 - 2021)\n",
    "\n",
    "[Kaggle](https://www.kaggle.com/datasets/sobhanmoosavi/us-accidents?resource=download)"
   ]
  },
  {
   "cell_type": "code",
   "execution_count": 4,
   "metadata": {},
   "outputs": [
    {
     "data": {
      "text/plain": [
       "(2845342, 47)"
      ]
     },
     "execution_count": 4,
     "metadata": {},
     "output_type": "execute_result"
    }
   ],
   "source": [
    "database = pd.read_csv(\"dataset.csv\")\n",
    "database.shape"
   ]
  },
  {
   "cell_type": "code",
   "execution_count": 5,
   "metadata": {},
   "outputs": [
    {
     "data": {
      "text/plain": [
       "Index(['ID', 'Severity', 'Start_Time', 'End_Time', 'Start_Lat', 'Start_Lng',\n",
       "       'End_Lat', 'End_Lng', 'Distance(mi)', 'Description', 'Number', 'Street',\n",
       "       'Side', 'City', 'County', 'State', 'Zipcode', 'Country', 'Timezone',\n",
       "       'Airport_Code', 'Weather_Timestamp', 'Temperature(F)', 'Wind_Chill(F)',\n",
       "       'Humidity(%)', 'Pressure(in)', 'Visibility(mi)', 'Wind_Direction',\n",
       "       'Wind_Speed(mph)', 'Precipitation(in)', 'Weather_Condition', 'Amenity',\n",
       "       'Bump', 'Crossing', 'Give_Way', 'Junction', 'No_Exit', 'Railway',\n",
       "       'Roundabout', 'Station', 'Stop', 'Traffic_Calming', 'Traffic_Signal',\n",
       "       'Turning_Loop', 'Sunrise_Sunset', 'Civil_Twilight', 'Nautical_Twilight',\n",
       "       'Astronomical_Twilight'],\n",
       "      dtype='object')"
      ]
     },
     "execution_count": 5,
     "metadata": {},
     "output_type": "execute_result"
    }
   ],
   "source": [
    "database.columns"
   ]
  },
  {
   "attachments": {},
   "cell_type": "markdown",
   "metadata": {},
   "source": [
    "### Algoritmos não eficientes:\n",
    "* Bubble Sort\n",
    "* Insertion Sort"
   ]
  },
  {
   "cell_type": "code",
   "execution_count": 11,
   "metadata": {},
   "outputs": [],
   "source": [
    "def insertion_sort(array):\n",
    "    swaps = 0\n",
    "    comparisons = 0\n",
    "    for i in range(1, len(array)):\n",
    "        key = array[i]\n",
    "        j = i - 1\n",
    "        while j >= 0 and array[j] > key:\n",
    "            comparisons = comparisons + 1\n",
    "            array[j+1] = array[j]\n",
    "            j -= 1\n",
    "        array[j+1] = key\n",
    "        swaps = swaps + 1\n",
    "    return comparisons, swaps"
   ]
  },
  {
   "cell_type": "code",
   "execution_count": 7,
   "metadata": {},
   "outputs": [],
   "source": [
    "def write_results(amostra, comparacoes, trocas, tempo, nome_arquivo):\n",
    "    with open(\"results/resultados_\"+nome_arquivo+\".txt\", \"a\") as f:\n",
    "        f.write(f\"{amostra},{comparacoes},{trocas},{tempo}\\n\")"
   ]
  },
  {
   "attachments": {},
   "cell_type": "markdown",
   "metadata": {},
   "source": [
    "### Algoritmo eficiente:\n",
    "* Quick Sort"
   ]
  },
  {
   "cell_type": "code",
   "execution_count": 13,
   "metadata": {},
   "outputs": [],
   "source": [
    "def quick_sort(array):\n",
    "    stack = [(0, len(array)-1)]\n",
    "    comparisons = 0\n",
    "    swaps = 0\n",
    "    while stack:\n",
    "        start, end = stack.pop()\n",
    "        if start < end:\n",
    "            pivot = array[start]\n",
    "            left, right = start+1, end\n",
    "            while left <= right:\n",
    "                while left <= right and array[left] < pivot:\n",
    "                    left += 1\n",
    "                    comparisons += 1\n",
    "                while left <= right and array[right] >= pivot:\n",
    "                    right -= 1\n",
    "                    comparisons += 1\n",
    "                if left <= right:\n",
    "                    array[left], array[right] = array[right], array[left]\n",
    "                    swaps += 1\n",
    "                    left += 1\n",
    "                    right -= 1\n",
    "\n",
    "            array[start], array[right] = array[right], array[start]\n",
    "            swaps += 1\n",
    "\n",
    "            stack.append((start, right-1))\n",
    "            stack.append((right+1, end))\n",
    "    \n",
    "    return comparisons, swaps"
   ]
  },
  {
   "cell_type": "code",
   "execution_count": 9,
   "metadata": {},
   "outputs": [],
   "source": [
    "number_of_samples = [1000, 10000, 100000, 500000, 1000000]"
   ]
  },
  {
   "cell_type": "code",
   "execution_count": 37,
   "metadata": {},
   "outputs": [
    {
     "name": "stdout",
     "output_type": "stream",
     "text": [
      "Rodando para tamanho: 1000 - Insertion Sort\n",
      "Rodando para tamanho: 10000 - Insertion Sort\n",
      "Rodando para tamanho: 100000 - Insertion Sort\n",
      "Rodando para tamanho: 500000 - Insertion Sort\n",
      "Rodando para tamanho: 1000000 - Insertion Sort\n"
     ]
    }
   ],
   "source": [
    "for i in number_of_samples:\n",
    "    inicio = time.time()\n",
    "    print(f\"Rodando para tamanho: {i} - Insertion Sort\")\n",
    "    sample = database.sample(i)\n",
    "    sample = sample[\"Distance(mi)\"].values\n",
    "    comparacoes, trocas = insertion_sort(sample)\n",
    "    fim = time.time()\n",
    "    tempo = fim - inicio\n",
    "\n",
    "    write_results(i, comparacoes, trocas, tempo)\n",
    "    "
   ]
  },
  {
   "cell_type": "code",
   "execution_count": 14,
   "metadata": {},
   "outputs": [
    {
     "name": "stdout",
     "output_type": "stream",
     "text": [
      "Rodando para tamanho: 1000 - Quick Sort\n",
      "Rodando para tamanho: 10000 - Quick Sort\n",
      "Rodando para tamanho: 100000 - Quick Sort\n",
      "Rodando para tamanho: 500000 - Quick Sort\n",
      "Rodando para tamanho: 1000000 - Quick Sort\n"
     ]
    }
   ],
   "source": [
    "for i in number_of_samples:\n",
    "    inicio = time.time()\n",
    "    print(f\"Rodando para tamanho: {i} - Quick Sort\")\n",
    "    sample = database.sample(i)\n",
    "    sample = sample[\"Distance(mi)\"].values\n",
    "    comparacoes, trocas = quick_sort(sample)\n",
    "    fim = time.time()\n",
    "    tempo = fim - inicio\n",
    "\n",
    "    write_results(i, comparacoes, trocas, tempo, \"quick\")"
   ]
  },
  {
   "cell_type": "code",
   "execution_count": null,
   "metadata": {},
   "outputs": [],
   "source": []
  }
 ],
 "metadata": {
  "kernelspec": {
   "display_name": "base",
   "language": "python",
   "name": "python3"
  },
  "language_info": {
   "codemirror_mode": {
    "name": "ipython",
    "version": 3
   },
   "file_extension": ".py",
   "mimetype": "text/x-python",
   "name": "python",
   "nbconvert_exporter": "python",
   "pygments_lexer": "ipython3",
   "version": "3.7.7"
  },
  "orig_nbformat": 4
 },
 "nbformat": 4,
 "nbformat_minor": 2
}
