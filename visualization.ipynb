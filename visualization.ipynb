{
 "cells": [
  {
   "cell_type": "code",
   "execution_count": 49,
   "metadata": {},
   "outputs": [],
   "source": [
    "import matplotlib.pyplot as plt\n",
    "import pandas as pd\n",
    "import numpy as np\n",
    "import math\n",
    "import time"
   ]
  },
  {
   "cell_type": "code",
   "execution_count": 64,
   "metadata": {},
   "outputs": [],
   "source": [
    "def quadratic_function(x):\n",
    "    return math.pow(x, 2)\n",
    "\n",
    "def log_n_func(x):\n",
    "    return math.log(x, 2)"
   ]
  },
  {
   "cell_type": "code",
   "execution_count": 53,
   "metadata": {},
   "outputs": [
    {
     "data": {
      "text/html": [
       "<div>\n",
       "<style scoped>\n",
       "    .dataframe tbody tr th:only-of-type {\n",
       "        vertical-align: middle;\n",
       "    }\n",
       "\n",
       "    .dataframe tbody tr th {\n",
       "        vertical-align: top;\n",
       "    }\n",
       "\n",
       "    .dataframe thead th {\n",
       "        text-align: right;\n",
       "    }\n",
       "</style>\n",
       "<table border=\"1\" class=\"dataframe\">\n",
       "  <thead>\n",
       "    <tr style=\"text-align: right;\">\n",
       "      <th></th>\n",
       "      <th>amostra</th>\n",
       "      <th>comparacoes</th>\n",
       "      <th>trocas</th>\n",
       "      <th>tempo</th>\n",
       "    </tr>\n",
       "  </thead>\n",
       "  <tbody>\n",
       "    <tr>\n",
       "      <th>0</th>\n",
       "      <td>1000</td>\n",
       "      <td>244275</td>\n",
       "      <td>999</td>\n",
       "      <td>3.791696</td>\n",
       "    </tr>\n",
       "    <tr>\n",
       "      <th>1</th>\n",
       "      <td>10000</td>\n",
       "      <td>24268452</td>\n",
       "      <td>9999</td>\n",
       "      <td>15.328643</td>\n",
       "    </tr>\n",
       "    <tr>\n",
       "      <th>2</th>\n",
       "      <td>100000</td>\n",
       "      <td>2448430147</td>\n",
       "      <td>99999</td>\n",
       "      <td>1109.308373</td>\n",
       "    </tr>\n",
       "    <tr>\n",
       "      <th>3</th>\n",
       "      <td>500000</td>\n",
       "      <td>61293676397</td>\n",
       "      <td>499999</td>\n",
       "      <td>26881.076916</td>\n",
       "    </tr>\n",
       "    <tr>\n",
       "      <th>4</th>\n",
       "      <td>1000000</td>\n",
       "      <td>245131941665</td>\n",
       "      <td>999999</td>\n",
       "      <td>110707.672423</td>\n",
       "    </tr>\n",
       "  </tbody>\n",
       "</table>\n",
       "</div>"
      ],
      "text/plain": [
       "   amostra   comparacoes  trocas          tempo\n",
       "0     1000        244275     999       3.791696\n",
       "1    10000      24268452    9999      15.328643\n",
       "2   100000    2448430147   99999    1109.308373\n",
       "3   500000   61293676397  499999   26881.076916\n",
       "4  1000000  245131941665  999999  110707.672423"
      ]
     },
     "execution_count": 53,
     "metadata": {},
     "output_type": "execute_result"
    }
   ],
   "source": [
    "data_resultados = pd.read_csv(\"results/resultados_insertion.txt\")\n",
    "data_resultados"
   ]
  },
  {
   "cell_type": "code",
   "execution_count": 54,
   "metadata": {},
   "outputs": [
    {
     "data": {
      "text/html": [
       "<div>\n",
       "<style scoped>\n",
       "    .dataframe tbody tr th:only-of-type {\n",
       "        vertical-align: middle;\n",
       "    }\n",
       "\n",
       "    .dataframe tbody tr th {\n",
       "        vertical-align: top;\n",
       "    }\n",
       "\n",
       "    .dataframe thead th {\n",
       "        text-align: right;\n",
       "    }\n",
       "</style>\n",
       "<table border=\"1\" class=\"dataframe\">\n",
       "  <thead>\n",
       "    <tr style=\"text-align: right;\">\n",
       "      <th></th>\n",
       "      <th>amostra</th>\n",
       "      <th>comparacoes</th>\n",
       "      <th>trocas</th>\n",
       "      <th>tempo</th>\n",
       "    </tr>\n",
       "  </thead>\n",
       "  <tbody>\n",
       "    <tr>\n",
       "      <th>0</th>\n",
       "      <td>1000</td>\n",
       "      <td>15179</td>\n",
       "      <td>2253</td>\n",
       "      <td>2.459378</td>\n",
       "    </tr>\n",
       "    <tr>\n",
       "      <th>1</th>\n",
       "      <td>10000</td>\n",
       "      <td>1072562</td>\n",
       "      <td>29000</td>\n",
       "      <td>2.819687</td>\n",
       "    </tr>\n",
       "    <tr>\n",
       "      <th>2</th>\n",
       "      <td>100000</td>\n",
       "      <td>98311674</td>\n",
       "      <td>320512</td>\n",
       "      <td>29.586274</td>\n",
       "    </tr>\n",
       "    <tr>\n",
       "      <th>3</th>\n",
       "      <td>500000</td>\n",
       "      <td>2391351797</td>\n",
       "      <td>1631830</td>\n",
       "      <td>583.543584</td>\n",
       "    </tr>\n",
       "    <tr>\n",
       "      <th>4</th>\n",
       "      <td>1000000</td>\n",
       "      <td>9613504570</td>\n",
       "      <td>3315001</td>\n",
       "      <td>2353.600365</td>\n",
       "    </tr>\n",
       "  </tbody>\n",
       "</table>\n",
       "</div>"
      ],
      "text/plain": [
       "   amostra  comparacoes   trocas        tempo\n",
       "0     1000        15179     2253     2.459378\n",
       "1    10000      1072562    29000     2.819687\n",
       "2   100000     98311674   320512    29.586274\n",
       "3   500000   2391351797  1631830   583.543584\n",
       "4  1000000   9613504570  3315001  2353.600365"
      ]
     },
     "execution_count": 54,
     "metadata": {},
     "output_type": "execute_result"
    }
   ],
   "source": [
    "data_resultados_quick = pd.read_csv(\"results/resultados_quick.txt\")\n",
    "data_resultados_quick"
   ]
  },
  {
   "cell_type": "code",
   "execution_count": 78,
   "metadata": {},
   "outputs": [
    {
     "data": {
      "image/png": "[encoded data removed]",
      "text/plain": [
       "<Figure size 720x432 with 1 Axes>"
      ]
     },
     "metadata": {
      "needs_background": "light"
     },
     "output_type": "display_data"
    }
   ],
   "source": [
    "#default_x_ticks = range(len(data_resultados.amostra))\n",
    "plt.figure(figsize=(10,6))\n",
    "amostra = np.linspace(1000, 1000000, num=50)\n",
    "\n",
    "quadratic = list(map(quadratic_function, amostra))\n",
    "logaritimic = list(map(log_n_func, amostra))\n",
    "\n",
    "plt.plot(data_resultados.amostra, data_resultados.tempo, 'or', ls='-')\n",
    "plt.plot(data_resultados_quick.amostra, data_resultados_quick.tempo, 'og', ls='-')\n",
    "\n",
    "# Decorate\n",
    "plt.title('Complexidade dos algoritmos')\n",
    "plt.xlabel('Amostra')\n",
    "# plt.xticks(data_resultados_quick.amostra, data_resultados.amostra)\n",
    "plt.ylabel('Tempo de processamento (s)')\n",
    "plt.legend(['InsertionSort', 'QuickSort'], loc='upper left')\n",
    "\n",
    "plt.savefig(\"results/complexity.pdf\")\n",
    "plt.show()\n",
    "\n"
   ]
  },
  {
   "cell_type": "code",
   "execution_count": null,
   "metadata": {},
   "outputs": [],
   "source": []
  },
  {
   "cell_type": "code",
   "execution_count": null,
   "metadata": {},
   "outputs": [],
   "source": []
  }
 ],
 "metadata": {
  "kernelspec": {
   "display_name": "base",
   "language": "python",
   "name": "python3"
  },
  "language_info": {
   "codemirror_mode": {
    "name": "ipython",
    "version": 3
   },
   "file_extension": ".py",
   "mimetype": "text/x-python",
   "name": "python",
   "nbconvert_exporter": "python",
   "pygments_lexer": "ipython3",
   "version": "3.7.7"
  },
  "orig_nbformat": 4
 },
 "nbformat": 4,
 "nbformat_minor": 2
}
